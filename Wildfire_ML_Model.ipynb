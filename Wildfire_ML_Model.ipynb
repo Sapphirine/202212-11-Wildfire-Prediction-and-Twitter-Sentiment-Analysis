{
  "cells": [
    {
      "cell_type": "markdown",
      "metadata": {
        "id": "IFTefpdGouLH"
      },
      "source": [
        "### Package import"
      ]
    },
    {
      "cell_type": "code",
      "execution_count": 132,
      "metadata": {
        "colab": {
          "base_uri": "https://localhost:8080/"
        },
        "id": "CGkypMDzhXxr",
        "outputId": "bd9978b0-ee6a-497d-b627-844973e975f8"
      },
      "outputs": [],
      "source": [
        "import pandas as pd\n",
        "import numpy as np\n",
        "from matplotlib import pylab as plt\n",
        "from sklearn import tree, preprocessing\n",
        "from sklearn import linear_model, model_selection, metrics, random_projection\n",
        "from sklearn.model_selection import GridSearchCV, train_test_split\n",
        "from sklearn.ensemble import RandomForestClassifier\n",
        "from sklearn import metrics\n",
        "from sklearn.metrics import classification_report\n",
        "from sklearn.preprocessing import StandardScaler, OneHotEncoder, LabelEncoder\n",
        "from imblearn.over_sampling import SMOTE\n",
        "from sklearn.ensemble import GradientBoostingClassifier\n",
        "from sklearn.metrics import confusion_matrix\n",
        "import seaborn as sns\n",
        "import matplotlib.pyplot as plt\n",
        "import joblib"
      ]
    },
    {
      "cell_type": "markdown",
      "metadata": {
        "id": "xUsBE5IcqRPA"
      },
      "source": [
        "### Data Preprocessing"
      ]
    },
    {
      "attachments": {},
      "cell_type": "markdown",
      "metadata": {},
      "source": [
        "#### Data Loading"
      ]
    },
    {
      "cell_type": "code",
      "execution_count": 133,
      "metadata": {
        "id": "FjDQx0PxiMoo"
      },
      "outputs": [],
      "source": [
        "from sqlalchemy import create_engine\n",
        "my_conn = create_engine(\"sqlite:////Users/Yi/Desktop/Wildfire/FPA_FOD_20221014.sqlite\")"
      ]
    },
    {
      "cell_type": "code",
      "execution_count": 134,
      "metadata": {
        "colab": {
          "base_uri": "https://localhost:8080/"
        },
        "id": "5sXd1YGoiYFL",
        "outputId": "68f85fc4-9be4-4273-e40b-64683aeb8d34"
      },
      "outputs": [
        {
          "name": "stdout",
          "output_type": "stream",
          "text": [
            "('spatial_ref_sys',)\n",
            "('spatialite_history',)\n",
            "('sqlite_sequence',)\n",
            "('geometry_columns',)\n",
            "('views_geometry_columns',)\n",
            "('virts_geometry_columns',)\n",
            "('geometry_columns_statistics',)\n",
            "('views_geometry_columns_statistics',)\n",
            "('virts_geometry_columns_statistics',)\n",
            "('geometry_columns_field_infos',)\n",
            "('views_geometry_columns_field_infos',)\n",
            "('virts_geometry_columns_field_infos',)\n",
            "('geometry_columns_time',)\n",
            "('geometry_columns_auth',)\n",
            "('views_geometry_columns_auth',)\n",
            "('virts_geometry_columns_auth',)\n",
            "('sql_statements_log',)\n",
            "('SpatialIndex',)\n",
            "('NWCG_UnitIdActive_20200123',)\n",
            "('Fires',)\n",
            "('idx_Fires_Shape',)\n",
            "('idx_Fires_Shape_rowid',)\n",
            "('idx_Fires_Shape_node',)\n",
            "('idx_Fires_Shape_parent',)\n"
          ]
        }
      ],
      "source": [
        "# present all the data \n",
        "r_set = my_conn.execute('''select name from sqlite_master where type = 'table' ''')\n",
        "for row in r_set:\n",
        "    print(row)"
      ]
    },
    {
      "cell_type": "code",
      "execution_count": 135,
      "metadata": {
        "id": "G8n1RF5El7IG"
      },
      "outputs": [],
      "source": [
        "# select related table \n",
        "df_raw = pd.read_sql_query(\"SELECT FIRE_YEAR, NWCG_GENERAL_CAUSE, LATITUDE, LONGITUDE, STATE, DISCOVERY_DATE, FIRE_SIZE, FIRE_SIZE_CLASS FROM 'Fires'\", my_conn)"
      ]
    },
    {
      "attachments": {},
      "cell_type": "markdown",
      "metadata": {},
      "source": [
        "#### Data Exploratory Analysis"
      ]
    },
    {
      "cell_type": "code",
      "execution_count": 136,
      "metadata": {
        "colab": {
          "base_uri": "https://localhost:8080/",
          "height": 300
        },
        "id": "DBilo1Z7tam7",
        "outputId": "88d2a234-ac71-4fe9-ae27-3b9a21d2ae3a"
      },
      "outputs": [
        {
          "data": {
            "text/html": [
              "<div>\n",
              "<style scoped>\n",
              "    .dataframe tbody tr th:only-of-type {\n",
              "        vertical-align: middle;\n",
              "    }\n",
              "\n",
              "    .dataframe tbody tr th {\n",
              "        vertical-align: top;\n",
              "    }\n",
              "\n",
              "    .dataframe thead th {\n",
              "        text-align: right;\n",
              "    }\n",
              "</style>\n",
              "<table border=\"1\" class=\"dataframe\">\n",
              "  <thead>\n",
              "    <tr style=\"text-align: right;\">\n",
              "      <th></th>\n",
              "      <th>FIRE_YEAR</th>\n",
              "      <th>LATITUDE</th>\n",
              "      <th>LONGITUDE</th>\n",
              "      <th>FIRE_SIZE</th>\n",
              "    </tr>\n",
              "  </thead>\n",
              "  <tbody>\n",
              "    <tr>\n",
              "      <th>count</th>\n",
              "      <td>2.303566e+06</td>\n",
              "      <td>2.303566e+06</td>\n",
              "      <td>2.303566e+06</td>\n",
              "      <td>2.303566e+06</td>\n",
              "    </tr>\n",
              "    <tr>\n",
              "      <th>mean</th>\n",
              "      <td>2.006167e+03</td>\n",
              "      <td>3.696623e+01</td>\n",
              "      <td>-9.635792e+01</td>\n",
              "      <td>7.816088e+01</td>\n",
              "    </tr>\n",
              "    <tr>\n",
              "      <th>std</th>\n",
              "      <td>8.044361e+00</td>\n",
              "      <td>6.008260e+00</td>\n",
              "      <td>1.664360e+01</td>\n",
              "      <td>2.630832e+03</td>\n",
              "    </tr>\n",
              "    <tr>\n",
              "      <th>min</th>\n",
              "      <td>1.992000e+03</td>\n",
              "      <td>1.793972e+01</td>\n",
              "      <td>-1.788026e+02</td>\n",
              "      <td>1.000000e-05</td>\n",
              "    </tr>\n",
              "    <tr>\n",
              "      <th>25%</th>\n",
              "      <td>2.000000e+03</td>\n",
              "      <td>3.301390e+01</td>\n",
              "      <td>-1.110361e+02</td>\n",
              "      <td>1.000000e-01</td>\n",
              "    </tr>\n",
              "    <tr>\n",
              "      <th>50%</th>\n",
              "      <td>2.006000e+03</td>\n",
              "      <td>3.572250e+01</td>\n",
              "      <td>-9.347009e+01</td>\n",
              "      <td>8.000000e-01</td>\n",
              "    </tr>\n",
              "    <tr>\n",
              "      <th>75%</th>\n",
              "      <td>2.013000e+03</td>\n",
              "      <td>4.089029e+01</td>\n",
              "      <td>-8.251000e+01</td>\n",
              "      <td>3.000000e+00</td>\n",
              "    </tr>\n",
              "    <tr>\n",
              "      <th>max</th>\n",
              "      <td>2.020000e+03</td>\n",
              "      <td>7.033060e+01</td>\n",
              "      <td>-6.525694e+01</td>\n",
              "      <td>6.627000e+05</td>\n",
              "    </tr>\n",
              "  </tbody>\n",
              "</table>\n",
              "</div>"
            ],
            "text/plain": [
              "          FIRE_YEAR      LATITUDE     LONGITUDE     FIRE_SIZE\n",
              "count  2.303566e+06  2.303566e+06  2.303566e+06  2.303566e+06\n",
              "mean   2.006167e+03  3.696623e+01 -9.635792e+01  7.816088e+01\n",
              "std    8.044361e+00  6.008260e+00  1.664360e+01  2.630832e+03\n",
              "min    1.992000e+03  1.793972e+01 -1.788026e+02  1.000000e-05\n",
              "25%    2.000000e+03  3.301390e+01 -1.110361e+02  1.000000e-01\n",
              "50%    2.006000e+03  3.572250e+01 -9.347009e+01  8.000000e-01\n",
              "75%    2.013000e+03  4.089029e+01 -8.251000e+01  3.000000e+00\n",
              "max    2.020000e+03  7.033060e+01 -6.525694e+01  6.627000e+05"
            ]
          },
          "execution_count": 136,
          "metadata": {},
          "output_type": "execute_result"
        }
      ],
      "source": [
        "df_raw.describe()"
      ]
    },
    {
      "cell_type": "code",
      "execution_count": 137,
      "metadata": {
        "colab": {
          "base_uri": "https://localhost:8080/",
          "height": 363
        },
        "id": "AskqxWPmEHQq",
        "outputId": "a1dd4e91-34bb-4dda-db27-56d0ed73c1dd"
      },
      "outputs": [
        {
          "data": {
            "text/html": [
              "<div>\n",
              "<style scoped>\n",
              "    .dataframe tbody tr th:only-of-type {\n",
              "        vertical-align: middle;\n",
              "    }\n",
              "\n",
              "    .dataframe tbody tr th {\n",
              "        vertical-align: top;\n",
              "    }\n",
              "\n",
              "    .dataframe thead th {\n",
              "        text-align: right;\n",
              "    }\n",
              "</style>\n",
              "<table border=\"1\" class=\"dataframe\">\n",
              "  <thead>\n",
              "    <tr style=\"text-align: right;\">\n",
              "      <th></th>\n",
              "      <th>FIRE_YEAR</th>\n",
              "      <th>NWCG_GENERAL_CAUSE</th>\n",
              "      <th>LATITUDE</th>\n",
              "      <th>LONGITUDE</th>\n",
              "      <th>STATE</th>\n",
              "      <th>DISCOVERY_DATE</th>\n",
              "      <th>FIRE_SIZE</th>\n",
              "      <th>FIRE_SIZE_CLASS</th>\n",
              "    </tr>\n",
              "  </thead>\n",
              "  <tbody>\n",
              "    <tr>\n",
              "      <th>0</th>\n",
              "      <td>2005</td>\n",
              "      <td>Power generation/transmission/distribution</td>\n",
              "      <td>40.036944</td>\n",
              "      <td>-121.005833</td>\n",
              "      <td>CA</td>\n",
              "      <td>2/2/2005</td>\n",
              "      <td>0.10</td>\n",
              "      <td>A</td>\n",
              "    </tr>\n",
              "    <tr>\n",
              "      <th>1</th>\n",
              "      <td>2004</td>\n",
              "      <td>Natural</td>\n",
              "      <td>38.933056</td>\n",
              "      <td>-120.404444</td>\n",
              "      <td>CA</td>\n",
              "      <td>5/12/2004</td>\n",
              "      <td>0.25</td>\n",
              "      <td>A</td>\n",
              "    </tr>\n",
              "    <tr>\n",
              "      <th>2</th>\n",
              "      <td>2004</td>\n",
              "      <td>Debris and open burning</td>\n",
              "      <td>38.984167</td>\n",
              "      <td>-120.735556</td>\n",
              "      <td>CA</td>\n",
              "      <td>5/31/2004</td>\n",
              "      <td>0.10</td>\n",
              "      <td>A</td>\n",
              "    </tr>\n",
              "    <tr>\n",
              "      <th>3</th>\n",
              "      <td>2004</td>\n",
              "      <td>Natural</td>\n",
              "      <td>38.559167</td>\n",
              "      <td>-119.913333</td>\n",
              "      <td>CA</td>\n",
              "      <td>6/28/2004</td>\n",
              "      <td>0.10</td>\n",
              "      <td>A</td>\n",
              "    </tr>\n",
              "    <tr>\n",
              "      <th>4</th>\n",
              "      <td>2004</td>\n",
              "      <td>Natural</td>\n",
              "      <td>38.559167</td>\n",
              "      <td>-119.933056</td>\n",
              "      <td>CA</td>\n",
              "      <td>6/28/2004</td>\n",
              "      <td>0.10</td>\n",
              "      <td>A</td>\n",
              "    </tr>\n",
              "    <tr>\n",
              "      <th>5</th>\n",
              "      <td>2004</td>\n",
              "      <td>Natural</td>\n",
              "      <td>38.635278</td>\n",
              "      <td>-120.103611</td>\n",
              "      <td>CA</td>\n",
              "      <td>6/30/2004</td>\n",
              "      <td>0.10</td>\n",
              "      <td>A</td>\n",
              "    </tr>\n",
              "    <tr>\n",
              "      <th>6</th>\n",
              "      <td>2004</td>\n",
              "      <td>Natural</td>\n",
              "      <td>38.688333</td>\n",
              "      <td>-120.153333</td>\n",
              "      <td>CA</td>\n",
              "      <td>7/1/2004</td>\n",
              "      <td>0.10</td>\n",
              "      <td>A</td>\n",
              "    </tr>\n",
              "    <tr>\n",
              "      <th>7</th>\n",
              "      <td>2005</td>\n",
              "      <td>Debris and open burning</td>\n",
              "      <td>40.968056</td>\n",
              "      <td>-122.433889</td>\n",
              "      <td>CA</td>\n",
              "      <td>3/8/2005</td>\n",
              "      <td>0.80</td>\n",
              "      <td>B</td>\n",
              "    </tr>\n",
              "    <tr>\n",
              "      <th>8</th>\n",
              "      <td>2005</td>\n",
              "      <td>Debris and open burning</td>\n",
              "      <td>41.233611</td>\n",
              "      <td>-122.283333</td>\n",
              "      <td>CA</td>\n",
              "      <td>3/15/2005</td>\n",
              "      <td>1.00</td>\n",
              "      <td>B</td>\n",
              "    </tr>\n",
              "    <tr>\n",
              "      <th>9</th>\n",
              "      <td>2004</td>\n",
              "      <td>Natural</td>\n",
              "      <td>38.548333</td>\n",
              "      <td>-120.149167</td>\n",
              "      <td>CA</td>\n",
              "      <td>7/1/2004</td>\n",
              "      <td>0.10</td>\n",
              "      <td>A</td>\n",
              "    </tr>\n",
              "  </tbody>\n",
              "</table>\n",
              "</div>"
            ],
            "text/plain": [
              "   FIRE_YEAR                          NWCG_GENERAL_CAUSE   LATITUDE  \\\n",
              "0       2005  Power generation/transmission/distribution  40.036944   \n",
              "1       2004                                     Natural  38.933056   \n",
              "2       2004                     Debris and open burning  38.984167   \n",
              "3       2004                                     Natural  38.559167   \n",
              "4       2004                                     Natural  38.559167   \n",
              "5       2004                                     Natural  38.635278   \n",
              "6       2004                                     Natural  38.688333   \n",
              "7       2005                     Debris and open burning  40.968056   \n",
              "8       2005                     Debris and open burning  41.233611   \n",
              "9       2004                                     Natural  38.548333   \n",
              "\n",
              "    LONGITUDE STATE DISCOVERY_DATE  FIRE_SIZE FIRE_SIZE_CLASS  \n",
              "0 -121.005833    CA       2/2/2005       0.10               A  \n",
              "1 -120.404444    CA      5/12/2004       0.25               A  \n",
              "2 -120.735556    CA      5/31/2004       0.10               A  \n",
              "3 -119.913333    CA      6/28/2004       0.10               A  \n",
              "4 -119.933056    CA      6/28/2004       0.10               A  \n",
              "5 -120.103611    CA      6/30/2004       0.10               A  \n",
              "6 -120.153333    CA       7/1/2004       0.10               A  \n",
              "7 -122.433889    CA       3/8/2005       0.80               B  \n",
              "8 -122.283333    CA      3/15/2005       1.00               B  \n",
              "9 -120.149167    CA       7/1/2004       0.10               A  "
            ]
          },
          "execution_count": 137,
          "metadata": {},
          "output_type": "execute_result"
        }
      ],
      "source": [
        "df_raw.head(10)"
      ]
    },
    {
      "cell_type": "code",
      "execution_count": 138,
      "metadata": {},
      "outputs": [
        {
          "data": {
            "text/plain": [
              "<AxesSubplot:title={'center':'Fire Cause Frequency Plot'}>"
            ]
          },
          "execution_count": 138,
          "metadata": {},
          "output_type": "execute_result"
        },
        {
          "data": {
            "image/png": "[encoded data removed]",
            "text/plain": [
              "<Figure size 432x288 with 1 Axes>"
            ]
          },
          "metadata": {
            "needs_background": "light"
          },
          "output_type": "display_data"
        }
      ],
      "source": [
        "df_raw['NWCG_GENERAL_CAUSE'].value_counts().plot(kind='barh', title='Fire Cause Frequency Plot')"
      ]
    },
    {
      "cell_type": "code",
      "execution_count": 139,
      "metadata": {},
      "outputs": [
        {
          "data": {
            "text/plain": [
              "<AxesSubplot:title={'center':'Top 10 States with Most Wildfires'}>"
            ]
          },
          "execution_count": 139,
          "metadata": {},
          "output_type": "execute_result"
        },
        {
          "data": {
            "image/png": "[encoded data removed]",
            "text/plain": [
              "<Figure size 432x288 with 1 Axes>"
            ]
          },
          "metadata": {
            "needs_background": "light"
          },
          "output_type": "display_data"
        }
      ],
      "source": [
        "df_raw['STATE'].value_counts().head(10).plot(kind='barh', title='Top 10 States with Most Wildfires')"
      ]
    },
    {
      "cell_type": "code",
      "execution_count": 140,
      "metadata": {},
      "outputs": [
        {
          "data": {
            "text/plain": [
              "<AxesSubplot:title={'center':'Geometric Distribution of Wildfires'}, xlabel='LONGITUDE', ylabel='LATITUDE'>"
            ]
          },
          "execution_count": 140,
          "metadata": {},
          "output_type": "execute_result"
        },
        {
          "data": {
            "image/png": "[encoded data removed]",
            "text/plain": [
              "<Figure size 432x288 with 1 Axes>"
            ]
          },
          "metadata": {
            "needs_background": "light"
          },
          "output_type": "display_data"
        }
      ],
      "source": [
        "df_raw.plot(kind='scatter', x='LONGITUDE', y='LATITUDE', color='red', alpha=0.8, title='Geometric Distribution of Wildfires')"
      ]
    },
    {
      "attachments": {},
      "cell_type": "markdown",
      "metadata": {},
      "source": [
        "#### Data Preprocessing"
      ]
    },
    {
      "cell_type": "code",
      "execution_count": 141,
      "metadata": {
        "id": "8TscfDBT3S_8"
      },
      "outputs": [
        {
          "data": {
            "text/plain": [
              "FIRE_YEAR             0\n",
              "NWCG_GENERAL_CAUSE    0\n",
              "LATITUDE              0\n",
              "LONGITUDE             0\n",
              "STATE                 0\n",
              "DISCOVERY_DATE        0\n",
              "FIRE_SIZE             0\n",
              "FIRE_SIZE_CLASS       0\n",
              "dtype: int64"
            ]
          },
          "execution_count": 141,
          "metadata": {},
          "output_type": "execute_result"
        }
      ],
      "source": [
        "# check null value\n",
        "df_raw.isnull().sum()"
      ]
    },
    {
      "cell_type": "code",
      "execution_count": 142,
      "metadata": {},
      "outputs": [
        {
          "name": "stdout",
          "output_type": "stream",
          "text": [
            "Firearms and explosives use\n",
            "Power generation/transmission/distribution\n",
            "Fireworks\n",
            "Natural\n",
            "Missing data/not specified/undetermined\n",
            "Debris and open burning\n",
            "Smoking\n",
            "Other causes\n",
            "Misuse of fire by a minor\n",
            "Equipment and vehicle use\n",
            "Arson/incendiarism\n",
            "Recreation and ceremony\n",
            "Railroad operations and maintenance\n"
          ]
        }
      ],
      "source": [
        "# reduce number of classes (cause)\n",
        "all_causes = set(df_raw['NWCG_GENERAL_CAUSE'])\n",
        "for c in all_causes:\n",
        "    print(c)    \n",
        "\n",
        "# reduce the number of classes of the fire causes\n",
        "CATEGORY = {}\n",
        "CATEGORY[1] = ['Natural']\n",
        "CATEGORY[2] = ['Power generation/transmission/distribution', \n",
        "               'Fireworks', \n",
        "               'Firearms and explosives use', \n",
        "               'Debris and open burning',\n",
        "               'Smoking',\n",
        "               'Railroad operations and maintenance',\n",
        "               'Misuse of fire by a minor',\n",
        "               'Equipment and vehicle use',\n",
        "               'Recreation and ceremony']\n",
        "CATEGORY[3] = ['Arson/incendiarism']\n",
        "CATEGORY[4] = ['Missing data/not specified/undetermined', 'Other causes']\n",
        "\n",
        "\n",
        "def set_label(cause):\n",
        "    if cause in CATEGORY[1]:\n",
        "        res = 1\n",
        "    elif cause in CATEGORY[2]:\n",
        "        res = 2\n",
        "    elif cause in CATEGORY[3]:\n",
        "        res = 3\n",
        "    else:\n",
        "        res = 4\n",
        "    return res\n",
        "\n",
        "df_raw['LABEL'] = df_raw['NWCG_GENERAL_CAUSE'].apply(lambda c: set_label(c))"
      ]
    },
    {
      "cell_type": "code",
      "execution_count": 143,
      "metadata": {},
      "outputs": [
        {
          "data": {
            "text/plain": [
              "<AxesSubplot:>"
            ]
          },
          "execution_count": 143,
          "metadata": {},
          "output_type": "execute_result"
        },
        {
          "data": {
            "image/png": "[encoded data removed]",
            "text/plain": [
              "<Figure size 432x288 with 1 Axes>"
            ]
          },
          "metadata": {
            "needs_background": "light"
          },
          "output_type": "display_data"
        }
      ],
      "source": [
        "df_raw['LABEL'].value_counts().plot(kind='barh')"
      ]
    },
    {
      "cell_type": "code",
      "execution_count": 144,
      "metadata": {
        "colab": {
          "base_uri": "https://localhost:8080/",
          "height": 424
        },
        "id": "vaCass1JuM3Y",
        "outputId": "cf3b41b4-aae2-4293-a03d-f4f57ce471ea"
      },
      "outputs": [
        {
          "data": {
            "text/html": [
              "<div>\n",
              "<style scoped>\n",
              "    .dataframe tbody tr th:only-of-type {\n",
              "        vertical-align: middle;\n",
              "    }\n",
              "\n",
              "    .dataframe tbody tr th {\n",
              "        vertical-align: top;\n",
              "    }\n",
              "\n",
              "    .dataframe thead th {\n",
              "        text-align: right;\n",
              "    }\n",
              "</style>\n",
              "<table border=\"1\" class=\"dataframe\">\n",
              "  <thead>\n",
              "    <tr style=\"text-align: right;\">\n",
              "      <th></th>\n",
              "      <th>FIRE_YEAR</th>\n",
              "      <th>NWCG_GENERAL_CAUSE</th>\n",
              "      <th>LATITUDE</th>\n",
              "      <th>LONGITUDE</th>\n",
              "      <th>STATE</th>\n",
              "      <th>DISCOVERY_DATE</th>\n",
              "      <th>FIRE_SIZE</th>\n",
              "      <th>FIRE_SIZE_CLASS</th>\n",
              "      <th>LABEL</th>\n",
              "      <th>DAY_OF_WEEK</th>\n",
              "      <th>MONTH</th>\n",
              "    </tr>\n",
              "  </thead>\n",
              "  <tbody>\n",
              "    <tr>\n",
              "      <th>0</th>\n",
              "      <td>2005</td>\n",
              "      <td>Power generation/transmission/distribution</td>\n",
              "      <td>40.036944</td>\n",
              "      <td>-121.005833</td>\n",
              "      <td>4</td>\n",
              "      <td>2453403.5</td>\n",
              "      <td>0.10</td>\n",
              "      <td>0</td>\n",
              "      <td>2</td>\n",
              "      <td>6</td>\n",
              "      <td>2</td>\n",
              "    </tr>\n",
              "    <tr>\n",
              "      <th>1</th>\n",
              "      <td>2004</td>\n",
              "      <td>Natural</td>\n",
              "      <td>38.933056</td>\n",
              "      <td>-120.404444</td>\n",
              "      <td>4</td>\n",
              "      <td>2453137.5</td>\n",
              "      <td>0.25</td>\n",
              "      <td>0</td>\n",
              "      <td>1</td>\n",
              "      <td>6</td>\n",
              "      <td>5</td>\n",
              "    </tr>\n",
              "    <tr>\n",
              "      <th>2</th>\n",
              "      <td>2004</td>\n",
              "      <td>Debris and open burning</td>\n",
              "      <td>38.984167</td>\n",
              "      <td>-120.735556</td>\n",
              "      <td>4</td>\n",
              "      <td>2453156.5</td>\n",
              "      <td>0.10</td>\n",
              "      <td>0</td>\n",
              "      <td>2</td>\n",
              "      <td>1</td>\n",
              "      <td>5</td>\n",
              "    </tr>\n",
              "    <tr>\n",
              "      <th>3</th>\n",
              "      <td>2004</td>\n",
              "      <td>Natural</td>\n",
              "      <td>38.559167</td>\n",
              "      <td>-119.913333</td>\n",
              "      <td>4</td>\n",
              "      <td>2453184.5</td>\n",
              "      <td>0.10</td>\n",
              "      <td>0</td>\n",
              "      <td>1</td>\n",
              "      <td>1</td>\n",
              "      <td>6</td>\n",
              "    </tr>\n",
              "    <tr>\n",
              "      <th>4</th>\n",
              "      <td>2004</td>\n",
              "      <td>Natural</td>\n",
              "      <td>38.559167</td>\n",
              "      <td>-119.933056</td>\n",
              "      <td>4</td>\n",
              "      <td>2453184.5</td>\n",
              "      <td>0.10</td>\n",
              "      <td>0</td>\n",
              "      <td>1</td>\n",
              "      <td>1</td>\n",
              "      <td>6</td>\n",
              "    </tr>\n",
              "    <tr>\n",
              "      <th>...</th>\n",
              "      <td>...</td>\n",
              "      <td>...</td>\n",
              "      <td>...</td>\n",
              "      <td>...</td>\n",
              "      <td>...</td>\n",
              "      <td>...</td>\n",
              "      <td>...</td>\n",
              "      <td>...</td>\n",
              "      <td>...</td>\n",
              "      <td>...</td>\n",
              "      <td>...</td>\n",
              "    </tr>\n",
              "    <tr>\n",
              "      <th>2303561</th>\n",
              "      <td>2020</td>\n",
              "      <td>Natural</td>\n",
              "      <td>39.037890</td>\n",
              "      <td>-108.959500</td>\n",
              "      <td>5</td>\n",
              "      <td>2459005.5</td>\n",
              "      <td>1.00</td>\n",
              "      <td>1</td>\n",
              "      <td>1</td>\n",
              "      <td>0</td>\n",
              "      <td>6</td>\n",
              "    </tr>\n",
              "    <tr>\n",
              "      <th>2303562</th>\n",
              "      <td>2020</td>\n",
              "      <td>Missing data/not specified/undetermined</td>\n",
              "      <td>37.148611</td>\n",
              "      <td>-119.503056</td>\n",
              "      <td>4</td>\n",
              "      <td>2459041.5</td>\n",
              "      <td>100.00</td>\n",
              "      <td>3</td>\n",
              "      <td>4</td>\n",
              "      <td>2</td>\n",
              "      <td>7</td>\n",
              "    </tr>\n",
              "    <tr>\n",
              "      <th>2303563</th>\n",
              "      <td>2020</td>\n",
              "      <td>Natural</td>\n",
              "      <td>46.151370</td>\n",
              "      <td>-114.442800</td>\n",
              "      <td>26</td>\n",
              "      <td>2459088.5</td>\n",
              "      <td>50.00</td>\n",
              "      <td>2</td>\n",
              "      <td>1</td>\n",
              "      <td>4</td>\n",
              "      <td>8</td>\n",
              "    </tr>\n",
              "    <tr>\n",
              "      <th>2303564</th>\n",
              "      <td>2020</td>\n",
              "      <td>Natural</td>\n",
              "      <td>46.670340</td>\n",
              "      <td>-120.114500</td>\n",
              "      <td>48</td>\n",
              "      <td>2459078.5</td>\n",
              "      <td>24892.00</td>\n",
              "      <td>6</td>\n",
              "      <td>1</td>\n",
              "      <td>1</td>\n",
              "      <td>8</td>\n",
              "    </tr>\n",
              "    <tr>\n",
              "      <th>2303565</th>\n",
              "      <td>2020</td>\n",
              "      <td>Missing data/not specified/undetermined</td>\n",
              "      <td>38.578900</td>\n",
              "      <td>-79.148450</td>\n",
              "      <td>46</td>\n",
              "      <td>2459173.5</td>\n",
              "      <td>105.00</td>\n",
              "      <td>3</td>\n",
              "      <td>4</td>\n",
              "      <td>0</td>\n",
              "      <td>11</td>\n",
              "    </tr>\n",
              "  </tbody>\n",
              "</table>\n",
              "<p>2303566 rows × 11 columns</p>\n",
              "</div>"
            ],
            "text/plain": [
              "         FIRE_YEAR                          NWCG_GENERAL_CAUSE   LATITUDE  \\\n",
              "0             2005  Power generation/transmission/distribution  40.036944   \n",
              "1             2004                                     Natural  38.933056   \n",
              "2             2004                     Debris and open burning  38.984167   \n",
              "3             2004                                     Natural  38.559167   \n",
              "4             2004                                     Natural  38.559167   \n",
              "...            ...                                         ...        ...   \n",
              "2303561       2020                                     Natural  39.037890   \n",
              "2303562       2020     Missing data/not specified/undetermined  37.148611   \n",
              "2303563       2020                                     Natural  46.151370   \n",
              "2303564       2020                                     Natural  46.670340   \n",
              "2303565       2020     Missing data/not specified/undetermined  38.578900   \n",
              "\n",
              "          LONGITUDE  STATE  DISCOVERY_DATE  FIRE_SIZE  FIRE_SIZE_CLASS  LABEL  \\\n",
              "0       -121.005833      4       2453403.5       0.10                0      2   \n",
              "1       -120.404444      4       2453137.5       0.25                0      1   \n",
              "2       -120.735556      4       2453156.5       0.10                0      2   \n",
              "3       -119.913333      4       2453184.5       0.10                0      1   \n",
              "4       -119.933056      4       2453184.5       0.10                0      1   \n",
              "...             ...    ...             ...        ...              ...    ...   \n",
              "2303561 -108.959500      5       2459005.5       1.00                1      1   \n",
              "2303562 -119.503056      4       2459041.5     100.00                3      4   \n",
              "2303563 -114.442800     26       2459088.5      50.00                2      1   \n",
              "2303564 -120.114500     48       2459078.5   24892.00                6      1   \n",
              "2303565  -79.148450     46       2459173.5     105.00                3      4   \n",
              "\n",
              "         DAY_OF_WEEK  MONTH  \n",
              "0                  6      2  \n",
              "1                  6      5  \n",
              "2                  1      5  \n",
              "3                  1      6  \n",
              "4                  1      6  \n",
              "...              ...    ...  \n",
              "2303561            0      6  \n",
              "2303562            2      7  \n",
              "2303563            4      8  \n",
              "2303564            1      8  \n",
              "2303565            0     11  \n",
              "\n",
              "[2303566 rows x 11 columns]"
            ]
          },
          "execution_count": 144,
          "metadata": {},
          "output_type": "execute_result"
        }
      ],
      "source": [
        "df = df_raw.copy()\n",
        "label = LabelEncoder()\n",
        "\n",
        "# use label encoder to encode the date information\n",
        "df['STATE'] = label.fit_transform(df['STATE'])\n",
        "df['FIRE_SIZE_CLASS'] = label.fit_transform(df['FIRE_SIZE_CLASS'])\n",
        "\n",
        "# extract date information from 'DISCOVERY_DATE' \n",
        "df['DISCOVERY_DATE'] = pd.to_datetime(df['DISCOVERY_DATE'])\n",
        "df['DAY_OF_WEEK'] = df['DISCOVERY_DATE'].dt.day_name()\n",
        "df['DAY_OF_WEEK'] = label.fit_transform(df['DAY_OF_WEEK'])\n",
        "df['MONTH'] = df['DISCOVERY_DATE'].dt.month\n",
        "df['DISCOVERY_DATE'] = pd.DatetimeIndex(df['DISCOVERY_DATE']).to_julian_date()\n",
        "df"
      ]
    },
    {
      "cell_type": "code",
      "execution_count": 145,
      "metadata": {},
      "outputs": [],
      "source": [
        "# group the data by different state\n",
        "df_by_state = {}\n",
        "df_group = df.groupby(by='STATE')\n",
        "for key, value in df_group:\n",
        "    df_by_state[key] = value"
      ]
    },
    {
      "attachments": {},
      "cell_type": "markdown",
      "metadata": {},
      "source": [
        "Based on the value count of the different causes, the dataset is highly unbalanced, we need to oversample the less common classes. Here we perform a **Synthetic Minority Oversampling Technique (SMOTE)** to balance the dataset"
      ]
    },
    {
      "cell_type": "code",
      "execution_count": 147,
      "metadata": {},
      "outputs": [],
      "source": [
        "# reduce sample size and split the dataset to form X and y and do resampling\n",
        "reduced_df = df.sample(n=200000, random_state=10).reset_index(drop=True)\n",
        "X, y = reduced_df.drop(['NWCG_GENERAL_CAUSE', 'LABEL'], axis=1), reduced_df['LABEL']\n",
        "\n",
        "# oversample the minority classes\n",
        "smote = SMOTE(random_state=10)\n",
        "X, y = smote.fit_resample(X, y)\n",
        "\n",
        "# split training set and testing set\n",
        "X_train, X_test, y_train, y_test = train_test_split(X, y, test_size=0.3, random_state=100)\n",
        "\n",
        "# standardize the data\n",
        "std = StandardScaler()\n",
        "X_train = std.fit_transform(X_train)\n",
        "X_test = std.transform(X_test)"
      ]
    },
    {
      "cell_type": "code",
      "execution_count": 148,
      "metadata": {
        "colab": {
          "base_uri": "https://localhost:8080/",
          "height": 399
        },
        "id": "gm3TqKUcvuCm",
        "outputId": "926a8d43-13a5-4917-a86e-ece8cecf6c37"
      },
      "outputs": [
        {
          "data": {
            "text/plain": [
              "<AxesSubplot:>"
            ]
          },
          "execution_count": 148,
          "metadata": {},
          "output_type": "execute_result"
        },
        {
          "data": {
            "image/png": "[encoded data removed]",
            "text/plain": [
              "<Figure size 432x288 with 2 Axes>"
            ]
          },
          "metadata": {
            "needs_background": "light"
          },
          "output_type": "display_data"
        }
      ],
      "source": [
        "# variable correlation heatmap\n",
        "X_train_df = pd.DataFrame(data=X_train, columns=['FIRE_YEAR', 'LATITUDE', 'LONGITUDE', 'STATE', 'DISCOVERY_DATE', 'FIRE_SIZE', 'FIRE_SIZE_CLASS', 'DAY_OF_WEEK', 'MONTH'])\n",
        "sns.heatmap(X_train_df.corr(), annot=True, fmt=\".2f\")"
      ]
    },
    {
      "cell_type": "markdown",
      "metadata": {
        "id": "-j6EBeow1V-z"
      },
      "source": [
        "### Machine Learning Model Training"
      ]
    },
    {
      "attachments": {},
      "cell_type": "markdown",
      "metadata": {},
      "source": [
        "#### Helper Functions"
      ]
    },
    {
      "cell_type": "code",
      "execution_count": 149,
      "metadata": {},
      "outputs": [],
      "source": [
        "# draw the confusion matrix\n",
        "def draw_confusion(model, verbose=False):\n",
        "    y_pred = model.predict(X_test)\n",
        "    cm = confusion_matrix(y_true=y_test, y_pred=y_pred)\n",
        "    cmn = np.round(cm.astype(\"float\") / cm.sum(axis=1)[:, np.newaxis], 4)\n",
        "    if verbose:\n",
        "        print(\"Confusion matrix is\", cmn)\n",
        "\n",
        "    ax = plt.subplot()\n",
        "    sns.heatmap(cmn, annot=True, fmt='g', ax=ax)\n",
        "\n",
        "    ax.set_xlabel(\"Predicted Cause Label\")\n",
        "    ax.set_ylabel(\"True Cause Label\")\n",
        "    labels = ['Natural', 'Accidental', 'Deliberate', 'Other']\n",
        "    ax.xaxis.set_ticklabels(labels)\n",
        "    ax.yaxis.set_ticklabels(labels[::-1])\n",
        "\n",
        "    plt.show()"
      ]
    },
    {
      "cell_type": "markdown",
      "metadata": {
        "id": "w_bibSEwPtQ2"
      },
      "source": [
        "#### Random Forest"
      ]
    },
    {
      "cell_type": "code",
      "execution_count": 150,
      "metadata": {
        "colab": {
          "base_uri": "https://localhost:8080/"
        },
        "id": "5c3f4qwk0e8G",
        "outputId": "a221d0d7-74c7-408c-9669-143608037877"
      },
      "outputs": [
        {
          "name": "stdout",
          "output_type": "stream",
          "text": [
            "Vannila random forest classification accuracy 0.7540394973070018\n"
          ]
        }
      ],
      "source": [
        "clf_rf = RandomForestClassifier(n_estimators=50)\n",
        "clf_rf = clf_rf.fit(X_train, y_train)\n",
        "print(\"Vannila random forest classification accuracy\", clf_rf.score(X_test, y_test))"
      ]
    },
    {
      "cell_type": "code",
      "execution_count": 151,
      "metadata": {},
      "outputs": [
        {
          "data": {
            "image/png": "[encoded data removed]",
            "text/plain": [
              "<Figure size 432x288 with 2 Axes>"
            ]
          },
          "metadata": {
            "needs_background": "light"
          },
          "output_type": "display_data"
        }
      ],
      "source": [
        "# visualization of each class's accuracy\n",
        "draw_confusion(clf_rf)"
      ]
    },
    {
      "attachments": {},
      "cell_type": "markdown",
      "metadata": {},
      "source": [
        "#### Logistic Regression"
      ]
    },
    {
      "cell_type": "code",
      "execution_count": 152,
      "metadata": {},
      "outputs": [
        {
          "name": "stdout",
          "output_type": "stream",
          "text": [
            "Logistic classification accuracy 0.43255596673139635\n"
          ]
        }
      ],
      "source": [
        "from sklearn.linear_model import LogisticRegression\n",
        "clf_logit = LogisticRegression(multi_class='ovr', class_weight='balanced', warm_start=True).fit(X_train, y_train)\n",
        "print(\"Logistic classification accuracy\", clf_logit.score(X_test, y_test))"
      ]
    },
    {
      "cell_type": "code",
      "execution_count": 153,
      "metadata": {},
      "outputs": [
        {
          "data": {
            "image/png": "[encoded data removed]",
            "text/plain": [
              "<Figure size 432x288 with 2 Axes>"
            ]
          },
          "metadata": {
            "needs_background": "light"
          },
          "output_type": "display_data"
        }
      ],
      "source": [
        "draw_confusion(clf_logit)"
      ]
    },
    {
      "attachments": {},
      "cell_type": "markdown",
      "metadata": {},
      "source": [
        "#### Gradient Boosting Tree"
      ]
    },
    {
      "cell_type": "code",
      "execution_count": 154,
      "metadata": {},
      "outputs": [
        {
          "name": "stdout",
          "output_type": "stream",
          "text": [
            "Gradient boosting tree accuracy 0.6275235408346462\n"
          ]
        }
      ],
      "source": [
        "from sklearn.ensemble import GradientBoostingClassifier\n",
        "clf_gbt = GradientBoostingClassifier().fit(X_train, y_train)\n",
        "print(\"Gradient boosting tree accuracy\", clf_gbt.score(X_test, y_test))"
      ]
    },
    {
      "cell_type": "code",
      "execution_count": 155,
      "metadata": {},
      "outputs": [
        {
          "data": {
            "image/png": "[encoded data removed]",
            "text/plain": [
              "<Figure size 432x288 with 2 Axes>"
            ]
          },
          "metadata": {
            "needs_background": "light"
          },
          "output_type": "display_data"
        }
      ],
      "source": [
        "draw_confusion(clf_gbt)"
      ]
    },
    {
      "attachments": {},
      "cell_type": "markdown",
      "metadata": {},
      "source": [
        "#### Support Vector Machine"
      ]
    },
    {
      "cell_type": "code",
      "execution_count": 156,
      "metadata": {},
      "outputs": [
        {
          "name": "stdout",
          "output_type": "stream",
          "text": [
            "Support vector machine accuracy 0.4358901549847946\n"
          ]
        },
        {
          "name": "stderr",
          "output_type": "stream",
          "text": [
            "/Users/Yi/opt/anaconda3/lib/python3.7/site-packages/sklearn/svm/_base.py:1208: ConvergenceWarning: Liblinear failed to converge, increase the number of iterations.\n",
            "  ConvergenceWarning,\n"
          ]
        }
      ],
      "source": [
        "from sklearn import svm\n",
        "clf_svm = svm.LinearSVC()\n",
        "clf_svm.fit(X_train, y_train)\n",
        "print(\"Support vector machine accuracy\", clf_svm.score(X_test, y_test))"
      ]
    },
    {
      "cell_type": "code",
      "execution_count": 157,
      "metadata": {},
      "outputs": [
        {
          "data": {
            "image/png": "[encoded data removed]",
            "text/plain": [
              "<Figure size 432x288 with 2 Axes>"
            ]
          },
          "metadata": {
            "needs_background": "light"
          },
          "output_type": "display_data"
        }
      ],
      "source": [
        "draw_confusion(clf_svm)"
      ]
    },
    {
      "attachments": {},
      "cell_type": "markdown",
      "metadata": {},
      "source": [
        "### Save Trained Models"
      ]
    },
    {
      "cell_type": "code",
      "execution_count": 161,
      "metadata": {
        "id": "KQ4HOvgTQpB8"
      },
      "outputs": [
        {
          "data": {
            "text/plain": [
              "'\\nscaler = joblib.load(scaler.pkl)\\nmodel = joblib.load(model.pkl)\\nX_test = scaler.transform(X_test)\\nmodel.predict(X_test)\\n'"
            ]
          },
          "execution_count": 161,
          "metadata": {},
          "output_type": "execute_result"
        }
      ],
      "source": [
        "# save input scaler\n",
        "joblib.dump(std, 'standard_scaler.pkl')\n",
        "# save machine learning models\n",
        "joblib.dump(clf_rf, 'random_forest.pkl')\n",
        "joblib.dump(clf_gbt, 'gbt.pkl')\n",
        "joblib.dump(clf_logit, 'logistic.pkl')\n",
        "joblib.dump(clf_svm, 'svm.pkl')\n",
        "\n",
        "\n",
        "\"\"\"\n",
        "scaler = joblib.load(scaler.pkl)\n",
        "model = joblib.load(model.pkl)\n",
        "X_test = scaler.transform(X_test)\n",
        "model.predict(X_test)\n",
        "\"\"\"\n"
      ]
    },
    {
      "cell_type": "code",
      "execution_count": null,
      "metadata": {},
      "outputs": [],
      "source": []
    },
    {
      "cell_type": "code",
      "execution_count": null,
      "metadata": {},
      "outputs": [],
      "source": []
    }
  ],
  "metadata": {
    "colab": {
      "provenance": []
    },
    "kernelspec": {
      "display_name": "base",
      "language": "python",
      "name": "python3"
    },
    "language_info": {
      "codemirror_mode": {
        "name": "ipython",
        "version": 3
      },
      "file_extension": ".py",
      "mimetype": "text/x-python",
      "name": "python",
      "nbconvert_exporter": "python",
      "pygments_lexer": "ipython3",
      "version": "3.7.6"
    },
    "vscode": {
      "interpreter": {
        "hash": "2e13bc2046f949ac3aa4f20920f37adcce03689b8a3223bc48e2df045b92d2c3"
      }
    }
  },
  "nbformat": 4,
  "nbformat_minor": 0
}
