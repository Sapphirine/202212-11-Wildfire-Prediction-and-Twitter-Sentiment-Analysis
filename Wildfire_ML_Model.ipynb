{
  "cells": [
    {
      "cell_type": "markdown",
      "metadata": {
        "id": "IFTefpdGouLH"
      },
      "source": [
        "### Package import"
      ]
    },
    {
      "cell_type": "code",
      "execution_count": 1,
      "metadata": {
        "colab": {
          "base_uri": "https://localhost:8080/"
        },
        "id": "CGkypMDzhXxr",
        "outputId": "bd9978b0-ee6a-497d-b627-844973e975f8"
      },
      "outputs": [],
      "source": [
        "import pandas as pd\n",
        "import numpy as np\n",
        "from matplotlib import pylab as plt\n",
        "from sklearn import tree, preprocessing\n",
        "from sklearn import linear_model, model_selection, metrics, random_projection\n",
        "from sklearn.model_selection import GridSearchCV, train_test_split\n",
        "from sklearn.ensemble import RandomForestClassifier\n",
        "from sklearn import metrics\n",
        "from sklearn.metrics import classification_report\n",
        "from sklearn.preprocessing import StandardScaler, OneHotEncoder, LabelEncoder\n",
        "# from imblearn.over_sampling import SMOTE\n",
        "from sklearn.ensemble import GradientBoostingClassifier\n",
        "from sklearn.metrics import confusion_matrix\n",
        "import seaborn as sns\n",
        "import matplotlib.pyplot as plt"
      ]
    },
    {
      "cell_type": "markdown",
      "metadata": {
        "id": "xUsBE5IcqRPA"
      },
      "source": [
        "### Data Preprocessing"
      ]
    },
    {
      "attachments": {},
      "cell_type": "markdown",
      "metadata": {},
      "source": [
        "#### Data Loading"
      ]
    },
    {
      "cell_type": "code",
      "execution_count": 2,
      "metadata": {
        "id": "FjDQx0PxiMoo"
      },
      "outputs": [],
      "source": [
        "from sqlalchemy import create_engine\n",
        "my_conn = create_engine(\"sqlite:///FPA_FOD_20221014.sqlite\")"
      ]
    },
    {
      "cell_type": "code",
      "execution_count": 3,
      "metadata": {
        "colab": {
          "base_uri": "https://localhost:8080/"
        },
        "id": "5sXd1YGoiYFL",
        "outputId": "68f85fc4-9be4-4273-e40b-64683aeb8d34"
      },
      "outputs": [
        {
          "name": "stdout",
          "output_type": "stream",
          "text": [
            "('spatial_ref_sys',)\n",
            "('spatialite_history',)\n",
            "('sqlite_sequence',)\n",
            "('geometry_columns',)\n",
            "('views_geometry_columns',)\n",
            "('virts_geometry_columns',)\n",
            "('geometry_columns_statistics',)\n",
            "('views_geometry_columns_statistics',)\n",
            "('virts_geometry_columns_statistics',)\n",
            "('geometry_columns_field_infos',)\n",
            "('views_geometry_columns_field_infos',)\n",
            "('virts_geometry_columns_field_infos',)\n",
            "('geometry_columns_time',)\n",
            "('geometry_columns_auth',)\n",
            "('views_geometry_columns_auth',)\n",
            "('virts_geometry_columns_auth',)\n",
            "('sql_statements_log',)\n",
            "('SpatialIndex',)\n",
            "('NWCG_UnitIdActive_20200123',)\n",
            "('Fires',)\n",
            "('idx_Fires_Shape',)\n",
            "('idx_Fires_Shape_rowid',)\n",
            "('idx_Fires_Shape_node',)\n",
            "('idx_Fires_Shape_parent',)\n"
          ]
        }
      ],
      "source": [
        "# present all the data \n",
        "r_set = my_conn.execute('''select name from sqlite_master where type = 'table' ''')\n",
        "for row in r_set:\n",
        "    print(row)"
      ]
    },
    {
      "cell_type": "code",
      "execution_count": 4,
      "metadata": {
        "id": "G8n1RF5El7IG"
      },
      "outputs": [],
      "source": [
        "# select related table \n",
        "df_raw = pd.read_sql_query(\"SELECT FIRE_YEAR, NWCG_GENERAL_CAUSE, LATITUDE, LONGITUDE, STATE, DISCOVERY_DATE, FIRE_SIZE FROM 'Fires'\", my_conn)"
      ]
    },
    {
      "cell_type": "code",
      "execution_count": 5,
      "metadata": {
        "colab": {
          "base_uri": "https://localhost:8080/",
          "height": 300
        },
        "id": "DBilo1Z7tam7",
        "outputId": "88d2a234-ac71-4fe9-ae27-3b9a21d2ae3a"
      },
      "outputs": [
        {
          "data": {
            "text/html": [
              "<div>\n",
              "<style scoped>\n",
              "    .dataframe tbody tr th:only-of-type {\n",
              "        vertical-align: middle;\n",
              "    }\n",
              "\n",
              "    .dataframe tbody tr th {\n",
              "        vertical-align: top;\n",
              "    }\n",
              "\n",
              "    .dataframe thead th {\n",
              "        text-align: right;\n",
              "    }\n",
              "</style>\n",
              "<table border=\"1\" class=\"dataframe\">\n",
              "  <thead>\n",
              "    <tr style=\"text-align: right;\">\n",
              "      <th></th>\n",
              "      <th>FIRE_YEAR</th>\n",
              "      <th>LATITUDE</th>\n",
              "      <th>LONGITUDE</th>\n",
              "      <th>FIRE_SIZE</th>\n",
              "    </tr>\n",
              "  </thead>\n",
              "  <tbody>\n",
              "    <tr>\n",
              "      <th>count</th>\n",
              "      <td>2.303566e+06</td>\n",
              "      <td>2.303566e+06</td>\n",
              "      <td>2.303566e+06</td>\n",
              "      <td>2.303566e+06</td>\n",
              "    </tr>\n",
              "    <tr>\n",
              "      <th>mean</th>\n",
              "      <td>2.006167e+03</td>\n",
              "      <td>3.696623e+01</td>\n",
              "      <td>-9.635792e+01</td>\n",
              "      <td>7.816088e+01</td>\n",
              "    </tr>\n",
              "    <tr>\n",
              "      <th>std</th>\n",
              "      <td>8.044361e+00</td>\n",
              "      <td>6.008260e+00</td>\n",
              "      <td>1.664360e+01</td>\n",
              "      <td>2.630832e+03</td>\n",
              "    </tr>\n",
              "    <tr>\n",
              "      <th>min</th>\n",
              "      <td>1.992000e+03</td>\n",
              "      <td>1.793972e+01</td>\n",
              "      <td>-1.788026e+02</td>\n",
              "      <td>1.000000e-05</td>\n",
              "    </tr>\n",
              "    <tr>\n",
              "      <th>25%</th>\n",
              "      <td>2.000000e+03</td>\n",
              "      <td>3.301390e+01</td>\n",
              "      <td>-1.110361e+02</td>\n",
              "      <td>1.000000e-01</td>\n",
              "    </tr>\n",
              "    <tr>\n",
              "      <th>50%</th>\n",
              "      <td>2.006000e+03</td>\n",
              "      <td>3.572250e+01</td>\n",
              "      <td>-9.347009e+01</td>\n",
              "      <td>8.000000e-01</td>\n",
              "    </tr>\n",
              "    <tr>\n",
              "      <th>75%</th>\n",
              "      <td>2.013000e+03</td>\n",
              "      <td>4.089029e+01</td>\n",
              "      <td>-8.251000e+01</td>\n",
              "      <td>3.000000e+00</td>\n",
              "    </tr>\n",
              "    <tr>\n",
              "      <th>max</th>\n",
              "      <td>2.020000e+03</td>\n",
              "      <td>7.033060e+01</td>\n",
              "      <td>-6.525694e+01</td>\n",
              "      <td>6.627000e+05</td>\n",
              "    </tr>\n",
              "  </tbody>\n",
              "</table>\n",
              "</div>"
            ],
            "text/plain": [
              "          FIRE_YEAR      LATITUDE     LONGITUDE     FIRE_SIZE\n",
              "count  2.303566e+06  2.303566e+06  2.303566e+06  2.303566e+06\n",
              "mean   2.006167e+03  3.696623e+01 -9.635792e+01  7.816088e+01\n",
              "std    8.044361e+00  6.008260e+00  1.664360e+01  2.630832e+03\n",
              "min    1.992000e+03  1.793972e+01 -1.788026e+02  1.000000e-05\n",
              "25%    2.000000e+03  3.301390e+01 -1.110361e+02  1.000000e-01\n",
              "50%    2.006000e+03  3.572250e+01 -9.347009e+01  8.000000e-01\n",
              "75%    2.013000e+03  4.089029e+01 -8.251000e+01  3.000000e+00\n",
              "max    2.020000e+03  7.033060e+01 -6.525694e+01  6.627000e+05"
            ]
          },
          "execution_count": 5,
          "metadata": {},
          "output_type": "execute_result"
        }
      ],
      "source": [
        "df_raw.describe()"
      ]
    },
    {
      "cell_type": "code",
      "execution_count": 6,
      "metadata": {
        "colab": {
          "base_uri": "https://localhost:8080/",
          "height": 363
        },
        "id": "AskqxWPmEHQq",
        "outputId": "a1dd4e91-34bb-4dda-db27-56d0ed73c1dd"
      },
      "outputs": [
        {
          "data": {
            "text/html": [
              "<div>\n",
              "<style scoped>\n",
              "    .dataframe tbody tr th:only-of-type {\n",
              "        vertical-align: middle;\n",
              "    }\n",
              "\n",
              "    .dataframe tbody tr th {\n",
              "        vertical-align: top;\n",
              "    }\n",
              "\n",
              "    .dataframe thead th {\n",
              "        text-align: right;\n",
              "    }\n",
              "</style>\n",
              "<table border=\"1\" class=\"dataframe\">\n",
              "  <thead>\n",
              "    <tr style=\"text-align: right;\">\n",
              "      <th></th>\n",
              "      <th>FIRE_YEAR</th>\n",
              "      <th>NWCG_GENERAL_CAUSE</th>\n",
              "      <th>LATITUDE</th>\n",
              "      <th>LONGITUDE</th>\n",
              "      <th>STATE</th>\n",
              "      <th>DISCOVERY_DATE</th>\n",
              "      <th>FIRE_SIZE</th>\n",
              "    </tr>\n",
              "  </thead>\n",
              "  <tbody>\n",
              "    <tr>\n",
              "      <th>0</th>\n",
              "      <td>2005</td>\n",
              "      <td>Power generation/transmission/distribution</td>\n",
              "      <td>40.036944</td>\n",
              "      <td>-121.005833</td>\n",
              "      <td>CA</td>\n",
              "      <td>2/2/2005</td>\n",
              "      <td>0.10</td>\n",
              "    </tr>\n",
              "    <tr>\n",
              "      <th>1</th>\n",
              "      <td>2004</td>\n",
              "      <td>Natural</td>\n",
              "      <td>38.933056</td>\n",
              "      <td>-120.404444</td>\n",
              "      <td>CA</td>\n",
              "      <td>5/12/2004</td>\n",
              "      <td>0.25</td>\n",
              "    </tr>\n",
              "    <tr>\n",
              "      <th>2</th>\n",
              "      <td>2004</td>\n",
              "      <td>Debris and open burning</td>\n",
              "      <td>38.984167</td>\n",
              "      <td>-120.735556</td>\n",
              "      <td>CA</td>\n",
              "      <td>5/31/2004</td>\n",
              "      <td>0.10</td>\n",
              "    </tr>\n",
              "    <tr>\n",
              "      <th>3</th>\n",
              "      <td>2004</td>\n",
              "      <td>Natural</td>\n",
              "      <td>38.559167</td>\n",
              "      <td>-119.913333</td>\n",
              "      <td>CA</td>\n",
              "      <td>6/28/2004</td>\n",
              "      <td>0.10</td>\n",
              "    </tr>\n",
              "    <tr>\n",
              "      <th>4</th>\n",
              "      <td>2004</td>\n",
              "      <td>Natural</td>\n",
              "      <td>38.559167</td>\n",
              "      <td>-119.933056</td>\n",
              "      <td>CA</td>\n",
              "      <td>6/28/2004</td>\n",
              "      <td>0.10</td>\n",
              "    </tr>\n",
              "    <tr>\n",
              "      <th>5</th>\n",
              "      <td>2004</td>\n",
              "      <td>Natural</td>\n",
              "      <td>38.635278</td>\n",
              "      <td>-120.103611</td>\n",
              "      <td>CA</td>\n",
              "      <td>6/30/2004</td>\n",
              "      <td>0.10</td>\n",
              "    </tr>\n",
              "    <tr>\n",
              "      <th>6</th>\n",
              "      <td>2004</td>\n",
              "      <td>Natural</td>\n",
              "      <td>38.688333</td>\n",
              "      <td>-120.153333</td>\n",
              "      <td>CA</td>\n",
              "      <td>7/1/2004</td>\n",
              "      <td>0.10</td>\n",
              "    </tr>\n",
              "    <tr>\n",
              "      <th>7</th>\n",
              "      <td>2005</td>\n",
              "      <td>Debris and open burning</td>\n",
              "      <td>40.968056</td>\n",
              "      <td>-122.433889</td>\n",
              "      <td>CA</td>\n",
              "      <td>3/8/2005</td>\n",
              "      <td>0.80</td>\n",
              "    </tr>\n",
              "    <tr>\n",
              "      <th>8</th>\n",
              "      <td>2005</td>\n",
              "      <td>Debris and open burning</td>\n",
              "      <td>41.233611</td>\n",
              "      <td>-122.283333</td>\n",
              "      <td>CA</td>\n",
              "      <td>3/15/2005</td>\n",
              "      <td>1.00</td>\n",
              "    </tr>\n",
              "    <tr>\n",
              "      <th>9</th>\n",
              "      <td>2004</td>\n",
              "      <td>Natural</td>\n",
              "      <td>38.548333</td>\n",
              "      <td>-120.149167</td>\n",
              "      <td>CA</td>\n",
              "      <td>7/1/2004</td>\n",
              "      <td>0.10</td>\n",
              "    </tr>\n",
              "  </tbody>\n",
              "</table>\n",
              "</div>"
            ],
            "text/plain": [
              "   FIRE_YEAR                          NWCG_GENERAL_CAUSE   LATITUDE  \\\n",
              "0       2005  Power generation/transmission/distribution  40.036944   \n",
              "1       2004                                     Natural  38.933056   \n",
              "2       2004                     Debris and open burning  38.984167   \n",
              "3       2004                                     Natural  38.559167   \n",
              "4       2004                                     Natural  38.559167   \n",
              "5       2004                                     Natural  38.635278   \n",
              "6       2004                                     Natural  38.688333   \n",
              "7       2005                     Debris and open burning  40.968056   \n",
              "8       2005                     Debris and open burning  41.233611   \n",
              "9       2004                                     Natural  38.548333   \n",
              "\n",
              "    LONGITUDE STATE DISCOVERY_DATE  FIRE_SIZE  \n",
              "0 -121.005833    CA       2/2/2005       0.10  \n",
              "1 -120.404444    CA      5/12/2004       0.25  \n",
              "2 -120.735556    CA      5/31/2004       0.10  \n",
              "3 -119.913333    CA      6/28/2004       0.10  \n",
              "4 -119.933056    CA      6/28/2004       0.10  \n",
              "5 -120.103611    CA      6/30/2004       0.10  \n",
              "6 -120.153333    CA       7/1/2004       0.10  \n",
              "7 -122.433889    CA       3/8/2005       0.80  \n",
              "8 -122.283333    CA      3/15/2005       1.00  \n",
              "9 -120.149167    CA       7/1/2004       0.10  "
            ]
          },
          "execution_count": 6,
          "metadata": {},
          "output_type": "execute_result"
        }
      ],
      "source": [
        "df_raw.head(10)"
      ]
    },
    {
      "cell_type": "code",
      "execution_count": 7,
      "metadata": {},
      "outputs": [],
      "source": [
        "# reduce number of samples\n",
        "df_raw = df_raw.sample(n=200000, random_state=10).reset_index(drop=True)"
      ]
    },
    {
      "cell_type": "code",
      "execution_count": 8,
      "metadata": {},
      "outputs": [
        {
          "data": {
            "text/html": [
              "<div>\n",
              "<style scoped>\n",
              "    .dataframe tbody tr th:only-of-type {\n",
              "        vertical-align: middle;\n",
              "    }\n",
              "\n",
              "    .dataframe tbody tr th {\n",
              "        vertical-align: top;\n",
              "    }\n",
              "\n",
              "    .dataframe thead th {\n",
              "        text-align: right;\n",
              "    }\n",
              "</style>\n",
              "<table border=\"1\" class=\"dataframe\">\n",
              "  <thead>\n",
              "    <tr style=\"text-align: right;\">\n",
              "      <th></th>\n",
              "      <th>FIRE_YEAR</th>\n",
              "      <th>NWCG_GENERAL_CAUSE</th>\n",
              "      <th>LATITUDE</th>\n",
              "      <th>LONGITUDE</th>\n",
              "      <th>STATE</th>\n",
              "      <th>DISCOVERY_DATE</th>\n",
              "      <th>FIRE_SIZE</th>\n",
              "    </tr>\n",
              "  </thead>\n",
              "  <tbody>\n",
              "    <tr>\n",
              "      <th>0</th>\n",
              "      <td>2020</td>\n",
              "      <td>Missing data/not specified/undetermined</td>\n",
              "      <td>30.459444</td>\n",
              "      <td>-88.555000</td>\n",
              "      <td>MS</td>\n",
              "      <td>10/21/2020</td>\n",
              "      <td>5.0</td>\n",
              "    </tr>\n",
              "    <tr>\n",
              "      <th>1</th>\n",
              "      <td>2007</td>\n",
              "      <td>Natural</td>\n",
              "      <td>39.635278</td>\n",
              "      <td>-120.219167</td>\n",
              "      <td>CA</td>\n",
              "      <td>7/10/2007</td>\n",
              "      <td>3.0</td>\n",
              "    </tr>\n",
              "    <tr>\n",
              "      <th>2</th>\n",
              "      <td>2010</td>\n",
              "      <td>Debris and open burning</td>\n",
              "      <td>31.877464</td>\n",
              "      <td>-98.817796</td>\n",
              "      <td>TX</td>\n",
              "      <td>10/20/2010</td>\n",
              "      <td>1.0</td>\n",
              "    </tr>\n",
              "    <tr>\n",
              "      <th>3</th>\n",
              "      <td>1995</td>\n",
              "      <td>Missing data/not specified/undetermined</td>\n",
              "      <td>33.200100</td>\n",
              "      <td>-110.110600</td>\n",
              "      <td>AZ</td>\n",
              "      <td>4/28/1995</td>\n",
              "      <td>0.5</td>\n",
              "    </tr>\n",
              "    <tr>\n",
              "      <th>4</th>\n",
              "      <td>1999</td>\n",
              "      <td>Natural</td>\n",
              "      <td>29.660000</td>\n",
              "      <td>-81.320000</td>\n",
              "      <td>FL</td>\n",
              "      <td>8/1/1999</td>\n",
              "      <td>12.0</td>\n",
              "    </tr>\n",
              "  </tbody>\n",
              "</table>\n",
              "</div>"
            ],
            "text/plain": [
              "   FIRE_YEAR                       NWCG_GENERAL_CAUSE   LATITUDE   LONGITUDE  \\\n",
              "0       2020  Missing data/not specified/undetermined  30.459444  -88.555000   \n",
              "1       2007                                  Natural  39.635278 -120.219167   \n",
              "2       2010                  Debris and open burning  31.877464  -98.817796   \n",
              "3       1995  Missing data/not specified/undetermined  33.200100 -110.110600   \n",
              "4       1999                                  Natural  29.660000  -81.320000   \n",
              "\n",
              "  STATE DISCOVERY_DATE  FIRE_SIZE  \n",
              "0    MS     10/21/2020        5.0  \n",
              "1    CA      7/10/2007        3.0  \n",
              "2    TX     10/20/2010        1.0  \n",
              "3    AZ      4/28/1995        0.5  \n",
              "4    FL       8/1/1999       12.0  "
            ]
          },
          "execution_count": 8,
          "metadata": {},
          "output_type": "execute_result"
        }
      ],
      "source": [
        "df_raw.head()"
      ]
    },
    {
      "attachments": {},
      "cell_type": "markdown",
      "metadata": {},
      "source": [
        "#### Data Cleaning"
      ]
    },
    {
      "cell_type": "code",
      "execution_count": 9,
      "metadata": {
        "id": "8TscfDBT3S_8"
      },
      "outputs": [
        {
          "data": {
            "text/plain": [
              "FIRE_YEAR             0\n",
              "NWCG_GENERAL_CAUSE    0\n",
              "LATITUDE              0\n",
              "LONGITUDE             0\n",
              "STATE                 0\n",
              "DISCOVERY_DATE        0\n",
              "FIRE_SIZE             0\n",
              "dtype: int64"
            ]
          },
          "execution_count": 9,
          "metadata": {},
          "output_type": "execute_result"
        }
      ],
      "source": [
        "# check null value\n",
        "df_raw.isnull().sum()"
      ]
    },
    {
      "cell_type": "code",
      "execution_count": 10,
      "metadata": {},
      "outputs": [
        {
          "name": "stdout",
          "output_type": "stream",
          "text": [
            "Misuse of fire by a minor\n",
            "Smoking\n",
            "Arson/incendiarism\n",
            "Equipment and vehicle use\n",
            "Other causes\n",
            "Natural\n",
            "Recreation and ceremony\n",
            "Power generation/transmission/distribution\n",
            "Firearms and explosives use\n",
            "Railroad operations and maintenance\n",
            "Debris and open burning\n",
            "Fireworks\n",
            "Missing data/not specified/undetermined\n"
          ]
        }
      ],
      "source": [
        "# reduce number of classes (cause)\n",
        "all_causes = set(df_raw['NWCG_GENERAL_CAUSE'])\n",
        "for c in all_causes:\n",
        "    print(c)    \n",
        "\n",
        "# reduce the number of classes of the fire causes\n",
        "CATEGORY = {}\n",
        "CATEGORY[1] = ['Natural', 'Debris and open burning']\n",
        "CATEGORY[2] = ['Arson/incendiarism', 'Smoking', 'Firearms and explosives use', 'Fireworks']\n",
        "CATEGORY[3] = ['Missing data/not specified/undetermined', ]\n",
        "\n",
        "def set_label(cause):\n",
        "    res = 0\n",
        "    if cause in CATEGORY[1]:\n",
        "        res = 1\n",
        "    elif cause in CATEGORY[2]:\n",
        "        res = 2\n",
        "    elif cause in CATEGORY[3]:\n",
        "        res = 3\n",
        "    else:\n",
        "        res = 4\n",
        "    return res\n",
        "\n",
        "df_raw['LABEL'] = df_raw['NWCG_GENERAL_CAUSE'].apply(lambda c: set_label(c))"
      ]
    },
    {
      "cell_type": "code",
      "execution_count": 11,
      "metadata": {
        "colab": {
          "base_uri": "https://localhost:8080/",
          "height": 424
        },
        "id": "vaCass1JuM3Y",
        "outputId": "cf3b41b4-aae2-4293-a03d-f4f57ce471ea"
      },
      "outputs": [
        {
          "data": {
            "text/html": [
              "<div>\n",
              "<style scoped>\n",
              "    .dataframe tbody tr th:only-of-type {\n",
              "        vertical-align: middle;\n",
              "    }\n",
              "\n",
              "    .dataframe tbody tr th {\n",
              "        vertical-align: top;\n",
              "    }\n",
              "\n",
              "    .dataframe thead th {\n",
              "        text-align: right;\n",
              "    }\n",
              "</style>\n",
              "<table border=\"1\" class=\"dataframe\">\n",
              "  <thead>\n",
              "    <tr style=\"text-align: right;\">\n",
              "      <th></th>\n",
              "      <th>FIRE_YEAR</th>\n",
              "      <th>NWCG_GENERAL_CAUSE</th>\n",
              "      <th>LATITUDE</th>\n",
              "      <th>LONGITUDE</th>\n",
              "      <th>STATE</th>\n",
              "      <th>DISCOVERY_DATE</th>\n",
              "      <th>FIRE_SIZE</th>\n",
              "      <th>LABEL</th>\n",
              "      <th>DAY_OF_WEEK</th>\n",
              "      <th>MONTH</th>\n",
              "    </tr>\n",
              "  </thead>\n",
              "  <tbody>\n",
              "    <tr>\n",
              "      <th>0</th>\n",
              "      <td>2020</td>\n",
              "      <td>Missing data/not specified/undetermined</td>\n",
              "      <td>30.459444</td>\n",
              "      <td>-88.555000</td>\n",
              "      <td>25</td>\n",
              "      <td>2459143.5</td>\n",
              "      <td>5.0</td>\n",
              "      <td>3</td>\n",
              "      <td>6</td>\n",
              "      <td>10</td>\n",
              "    </tr>\n",
              "    <tr>\n",
              "      <th>1</th>\n",
              "      <td>2007</td>\n",
              "      <td>Natural</td>\n",
              "      <td>39.635278</td>\n",
              "      <td>-120.219167</td>\n",
              "      <td>4</td>\n",
              "      <td>2454291.5</td>\n",
              "      <td>3.0</td>\n",
              "      <td>1</td>\n",
              "      <td>5</td>\n",
              "      <td>7</td>\n",
              "    </tr>\n",
              "    <tr>\n",
              "      <th>2</th>\n",
              "      <td>2010</td>\n",
              "      <td>Debris and open burning</td>\n",
              "      <td>31.877464</td>\n",
              "      <td>-98.817796</td>\n",
              "      <td>44</td>\n",
              "      <td>2455489.5</td>\n",
              "      <td>1.0</td>\n",
              "      <td>1</td>\n",
              "      <td>6</td>\n",
              "      <td>10</td>\n",
              "    </tr>\n",
              "    <tr>\n",
              "      <th>3</th>\n",
              "      <td>1995</td>\n",
              "      <td>Missing data/not specified/undetermined</td>\n",
              "      <td>33.200100</td>\n",
              "      <td>-110.110600</td>\n",
              "      <td>3</td>\n",
              "      <td>2449835.5</td>\n",
              "      <td>0.5</td>\n",
              "      <td>3</td>\n",
              "      <td>0</td>\n",
              "      <td>4</td>\n",
              "    </tr>\n",
              "    <tr>\n",
              "      <th>4</th>\n",
              "      <td>1999</td>\n",
              "      <td>Natural</td>\n",
              "      <td>29.660000</td>\n",
              "      <td>-81.320000</td>\n",
              "      <td>9</td>\n",
              "      <td>2451391.5</td>\n",
              "      <td>12.0</td>\n",
              "      <td>1</td>\n",
              "      <td>3</td>\n",
              "      <td>8</td>\n",
              "    </tr>\n",
              "    <tr>\n",
              "      <th>...</th>\n",
              "      <td>...</td>\n",
              "      <td>...</td>\n",
              "      <td>...</td>\n",
              "      <td>...</td>\n",
              "      <td>...</td>\n",
              "      <td>...</td>\n",
              "      <td>...</td>\n",
              "      <td>...</td>\n",
              "      <td>...</td>\n",
              "      <td>...</td>\n",
              "    </tr>\n",
              "    <tr>\n",
              "      <th>199995</th>\n",
              "      <td>1997</td>\n",
              "      <td>Natural</td>\n",
              "      <td>44.165000</td>\n",
              "      <td>-118.813333</td>\n",
              "      <td>37</td>\n",
              "      <td>2450657.5</td>\n",
              "      <td>0.1</td>\n",
              "      <td>1</td>\n",
              "      <td>1</td>\n",
              "      <td>7</td>\n",
              "    </tr>\n",
              "    <tr>\n",
              "      <th>199996</th>\n",
              "      <td>2003</td>\n",
              "      <td>Debris and open burning</td>\n",
              "      <td>38.918929</td>\n",
              "      <td>-80.539178</td>\n",
              "      <td>50</td>\n",
              "      <td>2452743.5</td>\n",
              "      <td>4.0</td>\n",
              "      <td>1</td>\n",
              "      <td>1</td>\n",
              "      <td>4</td>\n",
              "    </tr>\n",
              "    <tr>\n",
              "      <th>199997</th>\n",
              "      <td>2001</td>\n",
              "      <td>Missing data/not specified/undetermined</td>\n",
              "      <td>46.672500</td>\n",
              "      <td>-119.331389</td>\n",
              "      <td>48</td>\n",
              "      <td>2452233.5</td>\n",
              "      <td>19.0</td>\n",
              "      <td>3</td>\n",
              "      <td>5</td>\n",
              "      <td>11</td>\n",
              "    </tr>\n",
              "    <tr>\n",
              "      <th>199998</th>\n",
              "      <td>1994</td>\n",
              "      <td>Natural</td>\n",
              "      <td>33.800000</td>\n",
              "      <td>-109.033333</td>\n",
              "      <td>32</td>\n",
              "      <td>2449523.5</td>\n",
              "      <td>0.8</td>\n",
              "      <td>1</td>\n",
              "      <td>1</td>\n",
              "      <td>6</td>\n",
              "    </tr>\n",
              "    <tr>\n",
              "      <th>199999</th>\n",
              "      <td>2005</td>\n",
              "      <td>Arson/incendiarism</td>\n",
              "      <td>36.386667</td>\n",
              "      <td>-84.263333</td>\n",
              "      <td>43</td>\n",
              "      <td>2453687.5</td>\n",
              "      <td>0.5</td>\n",
              "      <td>2</td>\n",
              "      <td>3</td>\n",
              "      <td>11</td>\n",
              "    </tr>\n",
              "  </tbody>\n",
              "</table>\n",
              "<p>200000 rows × 10 columns</p>\n",
              "</div>"
            ],
            "text/plain": [
              "        FIRE_YEAR                       NWCG_GENERAL_CAUSE   LATITUDE  \\\n",
              "0            2020  Missing data/not specified/undetermined  30.459444   \n",
              "1            2007                                  Natural  39.635278   \n",
              "2            2010                  Debris and open burning  31.877464   \n",
              "3            1995  Missing data/not specified/undetermined  33.200100   \n",
              "4            1999                                  Natural  29.660000   \n",
              "...           ...                                      ...        ...   \n",
              "199995       1997                                  Natural  44.165000   \n",
              "199996       2003                  Debris and open burning  38.918929   \n",
              "199997       2001  Missing data/not specified/undetermined  46.672500   \n",
              "199998       1994                                  Natural  33.800000   \n",
              "199999       2005                       Arson/incendiarism  36.386667   \n",
              "\n",
              "         LONGITUDE  STATE  DISCOVERY_DATE  FIRE_SIZE  LABEL  DAY_OF_WEEK  \\\n",
              "0       -88.555000     25       2459143.5        5.0      3            6   \n",
              "1      -120.219167      4       2454291.5        3.0      1            5   \n",
              "2       -98.817796     44       2455489.5        1.0      1            6   \n",
              "3      -110.110600      3       2449835.5        0.5      3            0   \n",
              "4       -81.320000      9       2451391.5       12.0      1            3   \n",
              "...            ...    ...             ...        ...    ...          ...   \n",
              "199995 -118.813333     37       2450657.5        0.1      1            1   \n",
              "199996  -80.539178     50       2452743.5        4.0      1            1   \n",
              "199997 -119.331389     48       2452233.5       19.0      3            5   \n",
              "199998 -109.033333     32       2449523.5        0.8      1            1   \n",
              "199999  -84.263333     43       2453687.5        0.5      2            3   \n",
              "\n",
              "        MONTH  \n",
              "0          10  \n",
              "1           7  \n",
              "2          10  \n",
              "3           4  \n",
              "4           8  \n",
              "...       ...  \n",
              "199995      7  \n",
              "199996      4  \n",
              "199997     11  \n",
              "199998      6  \n",
              "199999     11  \n",
              "\n",
              "[200000 rows x 10 columns]"
            ]
          },
          "execution_count": 11,
          "metadata": {},
          "output_type": "execute_result"
        }
      ],
      "source": [
        "df = df_raw.copy()\n",
        "label = LabelEncoder()\n",
        "\n",
        "# use label encoder to encode the date information\n",
        "df['STATE'] = label.fit_transform(df['STATE'])\n",
        "\n",
        "# extract date information from 'DISCOVERY_DATE' \n",
        "df['DISCOVERY_DATE'] = pd.to_datetime(df['DISCOVERY_DATE'])\n",
        "df['DAY_OF_WEEK'] = df['DISCOVERY_DATE'].dt.day_name()\n",
        "df['DAY_OF_WEEK'] = label.fit_transform(df['DAY_OF_WEEK'])\n",
        "df['MONTH'] = df['DISCOVERY_DATE'].dt.month\n",
        "df['DISCOVERY_DATE'] = pd.DatetimeIndex(df['DISCOVERY_DATE']).to_julian_date()\n",
        "df"
      ]
    },
    {
      "cell_type": "code",
      "execution_count": 12,
      "metadata": {},
      "outputs": [],
      "source": [
        "# spliting the dataset\n",
        "y, X = df['LABEL'], df.drop(['NWCG_GENERAL_CAUSE', 'LABEL'], axis=1)\n",
        "X_train, X_test, y_train, y_test = train_test_split(X, y, test_size=0.3, random_state=100)\n",
        "\n",
        "# standardize the data\n",
        "std = StandardScaler()\n",
        "X_train = std.fit_transform(X_train)\n",
        "X_test = std.transform(X_test)"
      ]
    },
    {
      "cell_type": "code",
      "execution_count": 13,
      "metadata": {
        "colab": {
          "base_uri": "https://localhost:8080/",
          "height": 399
        },
        "id": "gm3TqKUcvuCm",
        "outputId": "926a8d43-13a5-4917-a86e-ece8cecf6c37"
      },
      "outputs": [
        {
          "data": {
            "text/plain": [
              "<AxesSubplot:>"
            ]
          },
          "execution_count": 13,
          "metadata": {},
          "output_type": "execute_result"
        },
        {
          "data": {
            "image/png": "[encoded data removed]",
            "text/plain": [
              "<Figure size 432x288 with 2 Axes>"
            ]
          },
          "metadata": {
            "needs_background": "light"
          },
          "output_type": "display_data"
        }
      ],
      "source": [
        "# variable correlation heatmap\n",
        "X_train_df = pd.DataFrame(data=X_train, columns=['FIRE_YEAR', 'LATITUDE', 'LONGITUDE', 'STATE', 'DISCOVERY_DATE', 'FIRE_SIZE', 'DAY_OF_WEEK', 'MONTH'])\n",
        "sns.heatmap(X_train_df.corr(), annot=True, fmt=\".2f\")"
      ]
    },
    {
      "cell_type": "code",
      "execution_count": null,
      "metadata": {},
      "outputs": [],
      "source": []
    },
    {
      "cell_type": "markdown",
      "metadata": {
        "id": "-j6EBeow1V-z"
      },
      "source": [
        "### Machine Learning Model Training"
      ]
    },
    {
      "attachments": {},
      "cell_type": "markdown",
      "metadata": {},
      "source": [
        "#### Helper Functions"
      ]
    },
    {
      "cell_type": "code",
      "execution_count": 14,
      "metadata": {},
      "outputs": [],
      "source": [
        "# draw the confusion matrix\n",
        "def draw_confusion(model, verbose=False):\n",
        "    y_pred = model.predict(X_test)\n",
        "    cm = confusion_matrix(y_true=y_test, y_pred=y_pred)\n",
        "    if verbose:\n",
        "        print(\"Confusion matrix is\", cm)\n",
        "\n",
        "    cmn = np.round(cm.astype(\"float\") / cm.sum(axis=1)[:, np.newaxis], 4)\n",
        "    fig, ax = plt.subplots(figsize=(10, 10))\n",
        "    ax.matshow(cmn, cmap=plt.cm.Blues, alpha=0.8)\n",
        "    for i in range(cmn.shape[0]):\n",
        "        for j in range(cmn.shape[1]):\n",
        "            ax.text(x=j, y=i, s=cmn[i, j], va='center', ha='center')\n",
        "    plt.xlabel(\"Predicted Cause Label\")\n",
        "    plt.ylabel(\"True Cause Label\")\n",
        "    plt.show()"
      ]
    },
    {
      "cell_type": "markdown",
      "metadata": {
        "id": "w_bibSEwPtQ2"
      },
      "source": [
        "#### Random Forest"
      ]
    },
    {
      "cell_type": "code",
      "execution_count": 15,
      "metadata": {
        "colab": {
          "base_uri": "https://localhost:8080/"
        },
        "id": "5c3f4qwk0e8G",
        "outputId": "a221d0d7-74c7-408c-9669-143608037877"
      },
      "outputs": [
        {
          "name": "stdout",
          "output_type": "stream",
          "text": [
            "Vannila random forest classification accuracy 0.5716\n"
          ]
        }
      ],
      "source": [
        "clf_rf = RandomForestClassifier(n_estimators=50)\n",
        "clf_rf = clf_rf.fit(X_train, y_train)\n",
        "print(\"Vannila random forest classification accuracy\", clf_rf.score(X_test, y_test))"
      ]
    },
    {
      "cell_type": "code",
      "execution_count": 16,
      "metadata": {},
      "outputs": [
        {
          "data": {
            "image/png": "[encoded data removed]",
            "text/plain": [
              "<Figure size 720x720 with 1 Axes>"
            ]
          },
          "metadata": {
            "needs_background": "light"
          },
          "output_type": "display_data"
        }
      ],
      "source": [
        "# visualization of each class's accuracy\n",
        "draw_confusion(clf_rf)"
      ]
    },
    {
      "attachments": {},
      "cell_type": "markdown",
      "metadata": {},
      "source": [
        "#### Logistic Regression"
      ]
    },
    {
      "cell_type": "code",
      "execution_count": 17,
      "metadata": {},
      "outputs": [
        {
          "name": "stdout",
          "output_type": "stream",
          "text": [
            "Logistic classification accuracy 0.30816666666666664\n"
          ]
        }
      ],
      "source": [
        "from sklearn.linear_model import LogisticRegression\n",
        "clf_logit = LogisticRegression(multi_class='ovr', class_weight='balanced', warm_start=True).fit(X_train, y_train)\n",
        "print(\"Logistic classification accuracy\", clf_logit.score(X_test, y_test))"
      ]
    },
    {
      "cell_type": "code",
      "execution_count": 18,
      "metadata": {},
      "outputs": [
        {
          "data": {
            "image/png": "[encoded data removed]",
            "text/plain": [
              "<Figure size 720x720 with 1 Axes>"
            ]
          },
          "metadata": {
            "needs_background": "light"
          },
          "output_type": "display_data"
        }
      ],
      "source": [
        "draw_confusion(clf_logit)"
      ]
    },
    {
      "attachments": {},
      "cell_type": "markdown",
      "metadata": {},
      "source": [
        "#### Gradient Boosting Tree"
      ]
    },
    {
      "cell_type": "code",
      "execution_count": 19,
      "metadata": {},
      "outputs": [
        {
          "name": "stdout",
          "output_type": "stream",
          "text": [
            "Gradient boosting tree accuracy 0.5241166666666667\n"
          ]
        }
      ],
      "source": [
        "from sklearn.ensemble import GradientBoostingClassifier\n",
        "clf_gbt = GradientBoostingClassifier().fit(X_train, y_train)\n",
        "print(\"Gradient boosting tree accuracy\", clf_gbt.score(X_test, y_test))"
      ]
    },
    {
      "cell_type": "code",
      "execution_count": 20,
      "metadata": {},
      "outputs": [
        {
          "data": {
            "image/png": "[encoded data removed]",
            "text/plain": [
              "<Figure size 720x720 with 1 Axes>"
            ]
          },
          "metadata": {
            "needs_background": "light"
          },
          "output_type": "display_data"
        }
      ],
      "source": [
        "draw_confusion(clf_gbt)"
      ]
    },
    {
      "attachments": {},
      "cell_type": "markdown",
      "metadata": {},
      "source": [
        "#### Support Vector Machine"
      ]
    },
    {
      "cell_type": "code",
      "execution_count": 21,
      "metadata": {},
      "outputs": [
        {
          "name": "stdout",
          "output_type": "stream",
          "text": [
            "Support vector machine accuracy 0.3948333333333333\n"
          ]
        },
        {
          "name": "stderr",
          "output_type": "stream",
          "text": [
            "/Users/Yi/opt/anaconda3/lib/python3.7/site-packages/sklearn/svm/_base.py:1208: ConvergenceWarning: Liblinear failed to converge, increase the number of iterations.\n",
            "  ConvergenceWarning,\n"
          ]
        }
      ],
      "source": [
        "from sklearn import svm\n",
        "clf_svm = svm.LinearSVC()\n",
        "clf_svm.fit(X_train, y_train)\n",
        "print(\"Support vector machine accuracy\", clf_svm.score(X_test, y_test))"
      ]
    },
    {
      "cell_type": "code",
      "execution_count": 22,
      "metadata": {},
      "outputs": [
        {
          "data": {
            "image/png": "[encoded data removed]",
            "text/plain": [
              "<Figure size 720x720 with 1 Axes>"
            ]
          },
          "metadata": {
            "needs_background": "light"
          },
          "output_type": "display_data"
        }
      ],
      "source": [
        "draw_confusion(clf_svm)"
      ]
    },
    {
      "cell_type": "code",
      "execution_count": null,
      "metadata": {},
      "outputs": [],
      "source": []
    },
    {
      "cell_type": "markdown",
      "metadata": {
        "id": "6hYmkpW_RaVw"
      },
      "source": [
        "The natural cause predition is extremly bad and we might want to further improve the model by using different classification algorithms or proceeding with more carefully preprocessed data or simply by incorporating more relevant features"
      ]
    },
    {
      "cell_type": "code",
      "execution_count": null,
      "metadata": {
        "id": "KQ4HOvgTQpB8"
      },
      "outputs": [],
      "source": []
    }
  ],
  "metadata": {
    "colab": {
      "provenance": []
    },
    "kernelspec": {
      "display_name": "base",
      "language": "python",
      "name": "python3"
    },
    "language_info": {
      "codemirror_mode": {
        "name": "ipython",
        "version": 3
      },
      "file_extension": ".py",
      "mimetype": "text/x-python",
      "name": "python",
      "nbconvert_exporter": "python",
      "pygments_lexer": "ipython3",
      "version": "3.7.6"
    },
    "vscode": {
      "interpreter": {
        "hash": "2e13bc2046f949ac3aa4f20920f37adcce03689b8a3223bc48e2df045b92d2c3"
      }
    }
  },
  "nbformat": 4,
  "nbformat_minor": 0
}
